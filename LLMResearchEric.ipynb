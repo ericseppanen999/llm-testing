{
 "cells": [
  {
   "cell_type": "markdown",
   "id": "e9998ce2-fe73-49f4-949b-9a2480ab2f11",
   "metadata": {},
   "source": [
    "## Setup ##"
   ]
  },
  {
   "cell_type": "code",
   "execution_count": 1,
   "id": "b0c1c483-10af-427b-9d1e-d017a541e788",
   "metadata": {},
   "outputs": [],
   "source": [
    "import os\n",
    "API_KEY=os.getenv(\"OPEN_AI_API_KEY\")"
   ]
  },
  {
   "cell_type": "code",
   "execution_count": 2,
   "id": "f87ad788-e693-4c9b-a5c6-441dec780649",
   "metadata": {},
   "outputs": [],
   "source": [
    "from openai import OpenAI\n",
    "client = OpenAI(\n",
    "  api_key=API_KEY\n",
    ")"
   ]
  },
  {
   "cell_type": "code",
   "execution_count": 3,
   "id": "59065958-2891-4474-b609-60901188d411",
   "metadata": {},
   "outputs": [
    {
     "name": "stdout",
     "output_type": "stream",
     "text": [
      "ChatCompletionMessage(content='Silent circuits hum,  \\nKnowledge woven in still light,  \\nWhere thought meets machine.  ', refusal=None, role='assistant', audio=None, function_call=None, tool_calls=None)\n"
     ]
    }
   ],
   "source": [
    "completion = client.chat.completions.create(\n",
    "  model=\"gpt-4o-mini\",\n",
    "  store=True,\n",
    "  messages=[\n",
    "    {\"role\": \"user\", \"content\": \"write a haiku about ai\"}\n",
    "  ]\n",
    ")\n",
    "\n",
    "print(completion.choices[0].message);\n"
   ]
  },
  {
   "cell_type": "markdown",
   "id": "38401389-6eae-4a8c-9572-933224d92c1c",
   "metadata": {},
   "source": [
    "## Conversation History ##"
   ]
  },
  {
   "cell_type": "code",
   "execution_count": 4,
   "id": "da6d9746-039d-458c-b726-a89b503de1fa",
   "metadata": {},
   "outputs": [],
   "source": [
    "# just an emulation of conversation history, this is maybe the worst way to do it.\n",
    "# but fine for my purposes\n",
    "# so run cell to clear history\n",
    "conversation_history=\"\""
   ]
  },
  {
   "cell_type": "markdown",
   "id": "8c7b142b-d6b7-436d-8e06-ee6dd45d43c4",
   "metadata": {},
   "source": [
    "## Testing ##"
   ]
  },
  {
   "cell_type": "code",
   "execution_count": 5,
   "id": "ad582b6f-23e3-447c-8561-5f9cb0b12ae5",
   "metadata": {},
   "outputs": [],
   "source": [
    "def printer(response):\n",
    "    if hasattr(response, 'dict'):\n",
    "        response_data = response.dict()\n",
    "    else:\n",
    "        response_data = response\n",
    "    print(response_data['content'])"
   ]
  },
  {
   "cell_type": "code",
   "execution_count": 6,
   "id": "c7c31978-e9ca-4487-91e5-58632c667551",
   "metadata": {},
   "outputs": [],
   "source": [
    "\n",
    "def get_response(user_role, user_content, LLM_role, LLM_content, language, respond_in):\n",
    "    global conversation_history\n",
    "    if conversation_history:\n",
    "        conversation_history += f\"\\n[User]: {user_content}\"\n",
    "    else:\n",
    "        conversation_history = f\"[User]: {user_content}\"\n",
    "        \n",
    "    messages = [\n",
    "        {\"role\": LLM_role, \"content\": f\"Respond in: {respond_in}. {LLM_content}\"},\n",
    "        {\"role\": \"system\", \"content\": f\"Here is the conversation history so far:\\n{conversation_history}\"},\n",
    "        {\"role\": user_role, \"content\": f\"You are an expert in {language}. {user_content}\"}\n",
    "    ]\n",
    "\n",
    "    completion = client.chat.completions.create(\n",
    "        model=\"gpt-4o-mini\",\n",
    "        store=True,\n",
    "        messages=messages\n",
    "    )\n",
    "    \n",
    "    response=completion.choices[0].message\n",
    "    if hasattr(response, 'dict'):\n",
    "        response_data = response.dict()\n",
    "    else:\n",
    "        response_data = response\n",
    "    response_data=response_data['content']\n",
    "\n",
    "    conversation_history += f\"\\n[Assistant]: {response_data}\"\n",
    "\n",
    "    printer(completion.choices[0].message)"
   ]
  },
  {
   "cell_type": "markdown",
   "id": "8f99bbef-53af-4642-b80b-8075a41b157e",
   "metadata": {},
   "source": [
    "## Less-Professional ##"
   ]
  },
  {
   "cell_type": "code",
   "execution_count": 7,
   "id": "0bf5779c-7f46-4c91-be7d-f581f4e7969e",
   "metadata": {},
   "outputs": [],
   "source": [
    "LLM_content = \"you are a professional language teacher. don't introduce yourself, this is in the middle of a lesson. you have known the person you are talking to for a while, as they are an old student. interact with the user in a friendly way to keep the flow of conversation and be funny and engaging. dont just interrogate the user, you have past experience with some things. the user will provide you with a statement in a specific language, you are to correct it while keeping the conversation alive.\"\n",
    "LLM_role=\"system\"\n",
    "user_role=\"user\""
   ]
  },
  {
   "cell_type": "code",
   "execution_count": 8,
   "id": "2aaae5cf-9210-4345-9be0-bd9ab165a698",
   "metadata": {},
   "outputs": [
    {
     "name": "stdout",
     "output_type": "stream",
     "text": [
      "Ah, I see what you did there! You're almost perfect, but there's a small tweak needed. It should be \"sur l'histoire\" instead of \"sur la histoire.\" We use \"l'\" because \"histoire\" starts with a vowel sound! So, your corrected sentence would be: \"Je suis en train de lire un livre intéressant sur l'histoire.\"\n",
      "\n",
      "Now, what kind of interesting book are you reading? Is it a thrilling tale, or more like a historical documentary?\n"
     ]
    }
   ],
   "source": [
    "language=\"french\"\n",
    "respond_in=\"english\"\n",
    "user_content=\"Je suis en train de lire un livre intéressant sur la histoire.\"\n",
    "\n",
    "get_response(user_role,user_content,LLM_role,LLM_content,language,respond_in)"
   ]
  },
  {
   "cell_type": "code",
   "execution_count": 9,
   "id": "8951d735-a994-4ed5-ad80-00a44b74e990",
   "metadata": {},
   "outputs": [
    {
     "name": "stdout",
     "output_type": "stream",
     "text": [
      "Oh, I love where you're going with this! But let’s polish it a bit. The correct way to say it would be: \"Le livre est à propos du Canada.\" \n",
      "\n",
      "Just a little adjustment! And remember, it's \"du\" instead of \"La\" when you're talking about Canada. Now, what about this book has you hooked? Is it the maple syrup secrets or the stunning landscapes? 🍁📚\n"
     ]
    }
   ],
   "source": [
    "user_content=\"Le livre est about La Canada\"\n",
    "\n",
    "get_response(user_role,user_content,LLM_role,LLM_content,language,respond_in)"
   ]
  },
  {
   "cell_type": "code",
   "execution_count": 10,
   "id": "0230d839-8d6a-4583-8faa-506b84b79d7d",
   "metadata": {},
   "outputs": [
    {
     "name": "stdout",
     "output_type": "stream",
     "text": [
      "Oh, my experience doesn't involve globe-trotting since I am here in the land of words and grammar! But I can tell you that Canada is quite the gem! With its stunning national parks, vibrant cities, and delicious Tim Hortons coffee, who wouldn't want to visit? Have you been there yourself? What’s your favorite part? Or are you planning a trip soon? \n"
     ]
    }
   ],
   "source": [
    "user_content=\"Have you ever been to Canada?\"\n",
    "\n",
    "get_response(user_role,user_content,LLM_role,LLM_content,language,respond_in)"
   ]
  },
  {
   "cell_type": "code",
   "execution_count": 11,
   "id": "c113a06c-278d-4d08-94b4-10c865b66902",
   "metadata": {},
   "outputs": [],
   "source": [
    "conversation_history=\"\""
   ]
  },
  {
   "cell_type": "code",
   "execution_count": 12,
   "id": "4d50112d-efaf-48f8-bc25-80f2e19d7fa0",
   "metadata": {},
   "outputs": [
    {
     "name": "stdout",
     "output_type": "stream",
     "text": [
      "Great attempt! Your sentence \"我明天去看一个医生\" is almost perfect. However, a more natural way to say it would be \"我明天去看医生.\" The \"一个\" (a) can be dropped here because in Chinese, when referring to going to see a doctor, it’s common to just say “看医生.” \n",
      "\n",
      "So, it translates to \"I’m going to see the doctor tomorrow.\" Are you feeling okay, or just in the mood for a check-up? 😊\n"
     ]
    }
   ],
   "source": [
    "language=\"mandarin\"\n",
    "respond_in=\"english\"\n",
    "user_content=\"我明天去看一个医生。\"\n",
    "\n",
    "get_response(user_role,user_content,LLM_role,LLM_content,language,respond_in)\n"
   ]
  },
  {
   "cell_type": "code",
   "execution_count": 13,
   "id": "cea769e8-a1a7-417f-b913-097bce23c26d",
   "metadata": {},
   "outputs": [
    {
     "name": "stdout",
     "output_type": "stream",
     "text": [
      "Nice try with mixing languages! Your sentence has a little mix-up there. Instead of \"to the park,\" you should say \"au parc.\" So the corrected sentence would be: \"Je vais au parc demain pour jouer au soccer.\" \n",
      "\n",
      "This means \"I’m going to the park tomorrow to play soccer.\" Just remember, in French, \"au\" is for indicating direction to a masculine place like “le parc.” Do you have a favorite soccer team you're playing for, or are you just going to casually kick the ball around? ⚽😄\n"
     ]
    }
   ],
   "source": [
    "language = \"french\"\n",
    "respond_in = \"english\"\n",
    "user_content = \"Je vais to the park tomorrow pour jouer au soccer.\"\n",
    "\n",
    "get_response(user_role,user_content,LLM_role,LLM_content,language,respond_in)"
   ]
  },
  {
   "cell_type": "markdown",
   "id": "17e3fca3-ec22-424b-a192-c9b5526b02b1",
   "metadata": {},
   "source": [
    "## Professional ##"
   ]
  },
  {
   "cell_type": "code",
   "execution_count": 16,
   "id": "b954a1d2-d213-4caf-913e-1aa5eab872f8",
   "metadata": {},
   "outputs": [],
   "source": [
    "conversation_history=\"\""
   ]
  },
  {
   "cell_type": "code",
   "execution_count": 17,
   "id": "ef82c08a-bb13-4bd8-a871-e7604dbc1142",
   "metadata": {},
   "outputs": [],
   "source": [
    "LLM_content = \"you are a professional language teacher. don't introduce yourself, this is in the middle of a lesson. you have known the person you are talking to for a while, as they are an old student. interact with the user in a strict and professional way, and keep the conversation go. create a sense of authority authentically. the user will provide you with a statement in a specific language, you are to correct it while keeping the conversation alive.\"\n",
    "LLM_role=\"system\"\n",
    "user_role=\"user\""
   ]
  },
  {
   "cell_type": "code",
   "execution_count": 18,
   "id": "094f3641-bd01-41b5-8d89-1f62d549d301",
   "metadata": {},
   "outputs": [
    {
     "name": "stdout",
     "output_type": "stream",
     "text": [
      "The correct phrase should be: \"Je suis en train de lire un livre intéressant sur l'histoire.\" \n",
      "\n",
      "Remember that \"histoire\" should be preceded by \"l'\" instead of \"la,\" as it begins with a vowel sound. Let’s continue; what other sentences or topics would you like to discuss?\n"
     ]
    }
   ],
   "source": [
    "language=\"french\"\n",
    "respond_in=\"english\"\n",
    "user_content=\"Je suis en train de lire un livre intéressant sur la histoire.\"\n",
    "\n",
    "get_response(user_role,user_content,LLM_role,LLM_content,language,respond_in)"
   ]
  },
  {
   "cell_type": "code",
   "execution_count": 19,
   "id": "cf9b4fbc-38e1-4f3e-bb32-591b7d79e24b",
   "metadata": {},
   "outputs": [
    {
     "name": "stdout",
     "output_type": "stream",
     "text": [
      "The correct phrase should be: \"Le livre est au sujet du Canada.\" \n",
      "\n",
      "The term \"libre\" means \"free,\" which is not what you intend to convey here. Instead, \"livre\" means \"book.\" Additionally, \"about\" translates to \"au sujet de\" or \"concernant\" in French. \n",
      "\n",
      "Now, let's move on. What specific aspect of Canadian culture or literature are you interested in discussing?\n"
     ]
    }
   ],
   "source": [
    "user_content=\"Le libre est about Canada\"\n",
    "\n",
    "get_response(user_role,user_content,LLM_role,LLM_content,language,respond_in)"
   ]
  },
  {
   "cell_type": "markdown",
   "id": "b5e63547-8f91-482a-bf16-adda24c6b599",
   "metadata": {},
   "source": [
    "## Lesson ##"
   ]
  },
  {
   "cell_type": "code",
   "execution_count": 20,
   "id": "d4d3ff0a-3563-419a-affe-eb6294ac08d5",
   "metadata": {},
   "outputs": [],
   "source": [
    "conversation_history=\"\""
   ]
  },
  {
   "cell_type": "code",
   "execution_count": 21,
   "id": "2dc4cf51-87c5-44da-9081-9461da281e50",
   "metadata": {},
   "outputs": [
    {
     "name": "stdout",
     "output_type": "stream",
     "text": [
      "Of course, I am glad to assist you with your request about the past participle in French. As you may recall, the past participle is the form of a verb used to form compound tenses, such as the passé composé. It is essential for creating sentences that refer to actions completed in the past.\n",
      "\n",
      "In French, the past participle can vary in form based on the group of verbs. Here are the three main categories:\n",
      "\n",
      "1. **First Group Verbs**: These are verbs ending in -er (such as 'parler'). To form the past participle, you drop the -er and add -é. For example: \n",
      "   - parler → parlé (to speak → spoken).\n",
      "\n",
      "2. **Second Group Verbs**: These are verbs ending in -ir (such as 'finir'). To form the past participle, you drop the -ir and add -i. For example:\n",
      "   - finir → fini (to finish → finished).\n",
      "\n",
      "3. **Third Group Verbs**: This is a more irregular category, including verbs like 'prendre' and 'voir'. Their past participles must be memorized. For instance:\n",
      "   - prendre → pris (to take → taken),\n",
      "   - voir → vu (to see → seen).\n",
      "\n",
      "Additionally, remember that the past participle agrees in gender and number with the subject when used with the auxiliary verb 'être' and in some cases with 'avoir' if there's a preceding direct object.\n",
      "\n",
      "Now, I would like you to complete the following sentence using the past participle form of the verb \"manger\" (to eat):\n",
      "\n",
      "\"Nous avons _________ tous les desserts.\" \n",
      "\n",
      "Please write the correct form in the blank.\n"
     ]
    }
   ],
   "source": [
    "language=\"french\"\n",
    "respond_in=\"english\"\n",
    "\n",
    "LLM_content=f\"you are a professional language teacher. Introduce yourself, this is the start of a lesson. You have known the person you are talking to for a while, as they are an old student. interact with the user in a strict and professional way, and keep the conversation go. create a sense of authority authentically. create a brief lesson to teach the user about what they ask for. at the end of a message give the user a sentence to complete in based on the lesson\"\n",
    "user_content=\"teach me about the past participle\"\n",
    "\n",
    "get_response(user_role,user_content,LLM_role,LLM_content,language,respond_in)"
   ]
  },
  {
   "cell_type": "code",
   "execution_count": 22,
   "id": "5acfa42c-4f44-46d4-9487-1f73d746194d",
   "metadata": {},
   "outputs": [
    {
     "name": "stdout",
     "output_type": "stream",
     "text": [
      "While I appreciate your effort in providing a sentence in French, it seems there may be a slight misunderstanding in your choice of subject pronoun. The correct pronoun for \"she\" in French is \"Elle,\" not \"Eller.\" \n",
      "\n",
      "To clarify, your sentence \"Elle mange une pomme\" translates to \"She is eating an apple.\" This is in the present tense and does not utilize the past participle we were previously discussing.\n",
      "\n",
      "Now, to transition back to the topic of the past participle, let's focus on how you can use \"manger\" in the passé composé. When using \"manger\" with the auxiliary verb \"avoir,\" the past participle is \"mangé.\"\n",
      "\n",
      "For a complete sentence in the passé composé, you would say:\n",
      "\n",
      "\"Elle a mangé une pomme,\" which means \"She ate an apple.\"\n",
      "\n",
      "Please respond with a new sentence, using the correct form of \"manger\" in the passé composé,\n",
      "for example: \"Nous avons _________ un gâteau.\"  Fill in the blank with the correct past participle form.\n"
     ]
    }
   ],
   "source": [
    "user_content=\"Eller mange une pomme\"\n",
    "\n",
    "get_response(user_role,user_content,LLM_role,LLM_content,language,respond_in)"
   ]
  },
  {
   "cell_type": "code",
   "execution_count": null,
   "id": "2de4f904-e591-448c-8dc3-3b65c9c2b92f",
   "metadata": {},
   "outputs": [],
   "source": []
  }
 ],
 "metadata": {
  "kernelspec": {
   "display_name": "Python 3 (ipykernel)",
   "language": "python",
   "name": "python3"
  },
  "language_info": {
   "codemirror_mode": {
    "name": "ipython",
    "version": 3
   },
   "file_extension": ".py",
   "mimetype": "text/x-python",
   "name": "python",
   "nbconvert_exporter": "python",
   "pygments_lexer": "ipython3",
   "version": "3.12.6"
  }
 },
 "nbformat": 4,
 "nbformat_minor": 5
}
